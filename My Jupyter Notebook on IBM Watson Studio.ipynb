{
    "cells": [
        {
            "cell_type": "markdown",
            "metadata": {
                "collapsed": true
            },
            "source": "# My Jupyter Notebook on IBM Studio"
        },
        {
            "cell_type": "markdown",
            "metadata": {},
            "source": "**Iman Soltani**\n\nResearch Associate"
        },
        {
            "cell_type": "markdown",
            "metadata": {},
            "source": "*I am interested in data science, because I like analysing data in order to solve real-life problems.*"
        },
        {
            "cell_type": "markdown",
            "metadata": {},
            "source": "### The following code shows simple calculations"
        },
        {
            "cell_type": "code",
            "execution_count": 3,
            "metadata": {},
            "outputs": [
                {
                    "data": {
                        "text/plain": "3456"
                    },
                    "execution_count": 3,
                    "metadata": {},
                    "output_type": "execute_result"
                }
            ],
            "source": "54*64"
        },
        {
            "attachments": {},
            "cell_type": "markdown",
            "metadata": {},
            "source": "* French Revolution Motto:\n1. Freedom\n1. Equality\n1. Fraternity\n\n~~An example of strikethrough~~\n\n(http://www.yahoo.com)\n\n> Animals categories:\n\n\n|Birds|Mammals|Reptiles|\n|:---:|:---:|:---:|\n|Crown|Cow|Snake|\n|Eagle|Lion|Lizard|\n|Dove|Camel|Gator|\n\n"
        }
    ],
    "metadata": {
        "kernelspec": {
            "display_name": "Python 3.7",
            "language": "python",
            "name": "python3"
        },
        "language_info": {
            "codemirror_mode": {
                "name": "ipython",
                "version": 3
            },
            "file_extension": ".py",
            "mimetype": "text/x-python",
            "name": "python",
            "nbconvert_exporter": "python",
            "pygments_lexer": "ipython3",
            "version": "3.7.9"
        }
    },
    "nbformat": 4,
    "nbformat_minor": 1
}